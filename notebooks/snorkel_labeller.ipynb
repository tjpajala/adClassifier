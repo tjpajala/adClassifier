{
 "cells": [
  {
   "cell_type": "code",
   "execution_count": null,
   "id": "sweet-reply",
   "metadata": {},
   "outputs": [],
   "source": [
    "import pandas as pd\n",
    "import os\n",
    "import sys\n",
    "import hvplot\n",
    "import hvplot.pandas\n",
    "from pathlib import Path\n",
    "from datetime import datetime\n",
    "import numpy as np\n",
    "sys.path.append(os.path.relpath(\"..\"))\n",
    "from adClassifier.utils import make_combined_df, DATA_FOLDER, ImgFromHTMLParser, get_img_from_html\n",
    "from adClassifier.models import image_classifier, message_classifier"
   ]
  },
  {
   "cell_type": "code",
   "execution_count": null,
   "id": "wrong-clause",
   "metadata": {},
   "outputs": [],
   "source": [
    "DATA_FOLDER = Path().cwd().parent / \"data\"\n",
    "print(str(DATA_FOLDER.absolute()))"
   ]
  },
  {
   "cell_type": "code",
   "execution_count": null,
   "id": "opposed-soldier",
   "metadata": {},
   "outputs": [],
   "source": [
    "df = pd.read_csv(str(DATA_FOLDER / \"en-US.csv.gz\"))"
   ]
  },
  {
   "cell_type": "code",
   "execution_count": null,
   "id": "adjacent-flexibility",
   "metadata": {},
   "outputs": [],
   "source": [
    "# retain only ads that are likely to be political\n",
    "df = df.loc[df.political_probability>0.90]\n",
    "df.shape"
   ]
  },
  {
   "cell_type": "code",
   "execution_count": null,
   "id": "associate-click",
   "metadata": {},
   "outputs": [],
   "source": [
    "df[\"created_date\"] = df.created_at.apply(lambda x: datetime.strptime(x.split(\" \")[0],\"%Y-%m-%d\"))\n",
    "df.updated_at = df.updated_at.fillna(df.created_at)\n",
    "df[\"updated_date\"] = df.updated_at.apply(lambda x: datetime.strptime(x.split(\" \")[0],\"%Y-%m-%d\"))\n"
   ]
  },
  {
   "cell_type": "code",
   "execution_count": null,
   "id": "accompanied-webmaster",
   "metadata": {},
   "outputs": [],
   "source": [
    "df[\"message\"] = df.message.fillna(\"\", inplace=False)\n",
    "df[\"political\"] = df.political.fillna(-1)\n",
    "df[\"not_political\"] = df.not_political.fillna(-1)\n",
    "df[\"title\"].fillna(\"\", inplace=True)\n",
    "df[\"id\"] = df.id.astype(str)\n",
    "df[\"paid_for_by\"].fillna(\"\", inplace=True)\n",
    "\n",
    "# fill images from same id\n",
    "with pd.option_context('max_colwidth',0, \"display.width\",1000):\n",
    "    #df[\"images\"] = df.images.apply(lambda x: x if ((isinstance(x, list)) & (len(x)>0)) else \"\")\n",
    "    #df.loc[df.images.isnull(),\"images\"] = df.loc[df.images.isnull()].apply(lambda x: [])\n",
    "    df[\"images\"] = [ [\"\"] if x is np.NaN else x for x in df['images'] ]\n",
    "    df[\"images\"] = [ [\"\"] if x==[] else x for x in df['images'] ]\n",
    "    #print(df.loc[df.title.str.contains(\"Amanda Stuck\"),[\"id\",\"images\"]])\n",
    "    #print(df.loc[:,[\"id\",\"images\"]])\n",
    "    df[\"images\"] = df.images.map(lambda x: x[0])\n",
    "    most_common = df.groupby(\"id\")[\"images\"].agg(lambda x:x.value_counts().index[0]).reset_index()\n",
    "    #most_common[\"images\"] = most_common.images.apply(lambda x: x)\n",
    "    df.loc[df.images == \"\",\"images\"] = np.nan\n",
    "    # first try to fill from other items with same id\n",
    "    df.loc[df.images.isnull(),\"images\"] = df.loc[df.images.isnull(),\"id\"].map(most_common.set_index(\"id\").images)\n",
    "    # if we still don't have the image, try to find it from HTML\n",
    "    df.loc[df.images.isnull(),\"images\"] = df.loc[df.images.isnull(),\"html\"].apply(lambda x: get_img_from_html(x))\n",
    "    # then fill from other items again\n",
    "    df.loc[df.images.isnull(),\"images\"] = df.loc[df.images.isnull(),\"id\"].map(most_common.set_index(\"id\").images)\n",
    "    #print(\"Fixed\")\n",
    "    #print(df.loc[df.title.str.contains(\"Amanda Stuck\"),[\"id\",\"images\"]])\n"
   ]
  },
  {
   "cell_type": "code",
   "execution_count": null,
   "id": "associate-metadata",
   "metadata": {},
   "outputs": [],
   "source": [
    "df[\"message_label\"] = np.nan"
   ]
  },
  {
   "cell_type": "markdown",
   "id": "extensive-exhibit",
   "metadata": {},
   "source": [
    "### Combine completions and data"
   ]
  },
  {
   "cell_type": "code",
   "execution_count": null,
   "id": "lasting-canberra",
   "metadata": {},
   "outputs": [],
   "source": [
    "from pathlib import Path\n",
    "COMPLETIONS_FOLDER = Path(\"/Users/tjpajala/PycharmProjects/adClassifier/ad_labeling/completions\")\n",
    "completions = {}\n",
    "print(\"Looking in {}\".format(COMPLETIONS_FOLDER))\n",
    "json_files = list(COMPLETIONS_FOLDER.rglob(\"*.json\")) \n",
    "print(\"Found {} json files\".format(len(json_files)))\n",
    "print(json_files[0:2])"
   ]
  },
  {
   "cell_type": "code",
   "execution_count": null,
   "id": "invisible-corporation",
   "metadata": {},
   "outputs": [],
   "source": [
    "import json\n",
    "from tqdm import tqdm\n",
    "from collections import Counter\n",
    "for jf in tqdm(json_files):\n",
    "    with open(jf,\"r\") as f:\n",
    "        d = json.load(f)\n",
    "        c_id = str(d[\"completions\"][0][\"id\"])\n",
    "        if len(d[\"completions\"][0][\"result\"]) > 0:\n",
    "            val = d[\"completions\"][0][\"result\"][0][\"value\"][\"choices\"]\n",
    "        else:\n",
    "            print(\"Skipping {} with empty result\".format(jf.name))\n",
    "            continue\n",
    "        #print(\"ID {}, choice {}\".format(jf.name ,val))\n",
    "        completions[c_id] = val[0]\n",
    "print(\"Found total {} completions.\".format(len(completions)))\n",
    "print(\"Completion distribution: \\n{}\".format(Counter(completions.values())))"
   ]
  },
  {
   "cell_type": "code",
   "execution_count": null,
   "id": "angry-controversy",
   "metadata": {},
   "outputs": [],
   "source": [
    "print(sorted(completions.keys())[0:5])\n",
    "print(sorted(df.id.values[0:5]))\n",
    "\n",
    "sum(1 for x in completions.keys() if x in df.id.values)"
   ]
  },
  {
   "cell_type": "code",
   "execution_count": null,
   "id": "indonesian-musician",
   "metadata": {},
   "outputs": [],
   "source": [
    "ABSTAIN = -1\n",
    "DEM = 0\n",
    "REP = 1\n"
   ]
  },
  {
   "cell_type": "code",
   "execution_count": null,
   "id": "authorized-walter",
   "metadata": {},
   "outputs": [],
   "source": [
    "params = yaml.safe_load(open('params.yaml'))['labeling_functions']\n",
    "DATA_FOLDER = Path(params[\"data_folder\"])\n",
    "METRICS_FOLDER = Path(params[\"metrics_folder\"])\n",
    "SCORES_FILE = METRICS_FOLDER / \"scores.json\"\n",
    "AUC_FILE = METRICS_FOLDER / \"auc.json\"\n",
    "seed = params[\"seed\"]\n",
    "n_epochs = params[\"n_epochs\"]\n",
    "log_freq = params[\"log_freq\"]\n",
    "n_estimators = params[\"n_estimators\"]\n",
    "class_weight = params[\"class_weight\"]\n",
    "OUTPUT_SPREADSHEET = params[\"output_spreadsheet_id\"]\n",
    "OUTPUT_RANGE = params[\"output_range\"]\n"
   ]
  },
  {
   "cell_type": "code",
   "execution_count": null,
   "id": "multiple-christianity",
   "metadata": {},
   "outputs": [],
   "source": []
  },
  {
   "cell_type": "code",
   "execution_count": null,
   "id": "adaptive-fortune",
   "metadata": {},
   "outputs": [],
   "source": []
  },
  {
   "cell_type": "code",
   "execution_count": null,
   "id": "noticed-abortion",
   "metadata": {},
   "outputs": [],
   "source": []
  },
  {
   "cell_type": "code",
   "execution_count": null,
   "id": "accessible-communist",
   "metadata": {},
   "outputs": [],
   "source": []
  },
  {
   "cell_type": "code",
   "execution_count": null,
   "id": "objective-feeding",
   "metadata": {},
   "outputs": [],
   "source": []
  },
  {
   "cell_type": "code",
   "execution_count": null,
   "id": "needed-clothing",
   "metadata": {},
   "outputs": [],
   "source": []
  },
  {
   "cell_type": "code",
   "execution_count": null,
   "id": "southeast-vacuum",
   "metadata": {},
   "outputs": [],
   "source": []
  },
  {
   "cell_type": "code",
   "execution_count": null,
   "id": "fundamental-afghanistan",
   "metadata": {},
   "outputs": [],
   "source": []
  }
 ],
 "metadata": {
  "kernelspec": {
   "display_name": "adClassifier",
   "language": "python",
   "name": "adclassifier"
  },
  "language_info": {
   "codemirror_mode": {
    "name": "ipython",
    "version": 3
   },
   "file_extension": ".py",
   "mimetype": "text/x-python",
   "name": "python",
   "nbconvert_exporter": "python",
   "pygments_lexer": "ipython3",
   "version": "3.7.9"
  }
 },
 "nbformat": 4,
 "nbformat_minor": 5
}
